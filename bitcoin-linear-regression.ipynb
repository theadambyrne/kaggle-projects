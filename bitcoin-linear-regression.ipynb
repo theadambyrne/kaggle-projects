{
 "cells": [
  {
   "cell_type": "markdown",
   "id": "e9ece30b",
   "metadata": {
    "papermill": {
     "duration": 0.010995,
     "end_time": "2023-02-28T20:29:21.236987",
     "exception": false,
     "start_time": "2023-02-28T20:29:21.225992",
     "status": "completed"
    },
    "tags": []
   },
   "source": [
    "### **Aim:** Predict the high price of Bitcoin based on a collection of features. \n"
   ]
  },
  {
   "cell_type": "code",
   "execution_count": 1,
   "id": "ac835aba",
   "metadata": {
    "execution": {
     "iopub.execute_input": "2023-02-28T20:29:21.258930Z",
     "iopub.status.busy": "2023-02-28T20:29:21.258247Z",
     "iopub.status.idle": "2023-02-28T20:29:24.637845Z",
     "shell.execute_reply": "2023-02-28T20:29:24.636526Z"
    },
    "papermill": {
     "duration": 3.394079,
     "end_time": "2023-02-28T20:29:24.640955",
     "exception": false,
     "start_time": "2023-02-28T20:29:21.246876",
     "status": "completed"
    },
    "tags": []
   },
   "outputs": [],
   "source": [
    "import pandas as pd\n",
    "\n",
    "%matplotlib inline\n",
    "import matplotlib.pyplot as plt\n",
    "import seaborn as sns\n",
    "\n",
    "from sklearn.preprocessing import normalize\n",
    "from sklearn.feature_selection import VarianceThreshold\n",
    "from sklearn.model_selection import train_test_split, cross_val_score\n",
    "from sklearn.linear_model import LinearRegression\n",
    "\n",
    "import statsmodels.api as sm\n",
    "from sklearn.metrics import r2_score\n",
    "\n",
    "import requests\n",
    "from datetime import datetime"
   ]
  },
  {
   "cell_type": "markdown",
   "id": "e3edc5ca",
   "metadata": {
    "papermill": {
     "duration": 0.009663,
     "end_time": "2023-02-28T20:29:24.660551",
     "exception": false,
     "start_time": "2023-02-28T20:29:24.650888",
     "status": "completed"
    },
    "tags": []
   },
   "source": [
    "# Data Context\n",
    "\n",
    "### <u>Target</u>\n",
    "**High:** Highest price traded during a time period.\n",
    "\n",
    "\n",
    "### <u>Features</u>\n",
    "**Open:** Price at the first trade in the time period.\n",
    "\n",
    "**Low:** Lowest price traded during a time period.\n",
    "\n",
    "**Volume by Currency:** The total value of Bitcoin that was traded in a specific currency, such as US dollars (in our case). *demand*\n",
    "\n",
    "---\n",
    "**We will not be using the below features, but they are provided for completeness.**\n",
    "\n",
    "**Close:** Price at the last trade in the time period.\n",
    "\n",
    "**Volume BTC:** The total amount of Bitcoin that was traded during a specified time period. *activity/liquidity*\n",
    "\n",
    "**Weighted Price:** The average price of the cryptocurrency that takes into account the total volume of trades that have occurred at different prices."
   ]
  },
  {
   "cell_type": "code",
   "execution_count": 2,
   "id": "37aaac0c",
   "metadata": {
    "execution": {
     "iopub.execute_input": "2023-02-28T20:29:24.683866Z",
     "iopub.status.busy": "2023-02-28T20:29:24.683418Z",
     "iopub.status.idle": "2023-02-28T20:29:24.688559Z",
     "shell.execute_reply": "2023-02-28T20:29:24.687675Z"
    },
    "papermill": {
     "duration": 0.020074,
     "end_time": "2023-02-28T20:29:24.690883",
     "exception": false,
     "start_time": "2023-02-28T20:29:24.670809",
     "status": "completed"
    },
    "tags": []
   },
   "outputs": [],
   "source": [
    "features = [\"Open\", \"Low\", \"Volume_USD\"]\n",
    "target = \"High\""
   ]
  },
  {
   "cell_type": "code",
   "execution_count": 3,
   "id": "6dff8c8a",
   "metadata": {
    "execution": {
     "iopub.execute_input": "2023-02-28T20:29:24.713528Z",
     "iopub.status.busy": "2023-02-28T20:29:24.712512Z",
     "iopub.status.idle": "2023-02-28T20:29:32.860704Z",
     "shell.execute_reply": "2023-02-28T20:29:32.859371Z"
    },
    "papermill": {
     "duration": 8.162267,
     "end_time": "2023-02-28T20:29:32.863388",
     "exception": false,
     "start_time": "2023-02-28T20:29:24.701121",
     "status": "completed"
    },
    "tags": []
   },
   "outputs": [
    {
     "data": {
      "text/html": [
       "<div>\n",
       "<style scoped>\n",
       "    .dataframe tbody tr th:only-of-type {\n",
       "        vertical-align: middle;\n",
       "    }\n",
       "\n",
       "    .dataframe tbody tr th {\n",
       "        vertical-align: top;\n",
       "    }\n",
       "\n",
       "    .dataframe thead th {\n",
       "        text-align: right;\n",
       "    }\n",
       "</style>\n",
       "<table border=\"1\" class=\"dataframe\">\n",
       "  <thead>\n",
       "    <tr style=\"text-align: right;\">\n",
       "      <th></th>\n",
       "      <th>Timestamp</th>\n",
       "      <th>Open</th>\n",
       "      <th>High</th>\n",
       "      <th>Low</th>\n",
       "      <th>Close</th>\n",
       "      <th>Volume_(BTC)</th>\n",
       "      <th>Volume_(Currency)</th>\n",
       "      <th>Weighted_Price</th>\n",
       "    </tr>\n",
       "  </thead>\n",
       "  <tbody>\n",
       "    <tr>\n",
       "      <th>0</th>\n",
       "      <td>1325317920</td>\n",
       "      <td>4.39</td>\n",
       "      <td>4.39</td>\n",
       "      <td>4.39</td>\n",
       "      <td>4.39</td>\n",
       "      <td>0.455581</td>\n",
       "      <td>2.0</td>\n",
       "      <td>4.39</td>\n",
       "    </tr>\n",
       "    <tr>\n",
       "      <th>1</th>\n",
       "      <td>1325317980</td>\n",
       "      <td>NaN</td>\n",
       "      <td>NaN</td>\n",
       "      <td>NaN</td>\n",
       "      <td>NaN</td>\n",
       "      <td>NaN</td>\n",
       "      <td>NaN</td>\n",
       "      <td>NaN</td>\n",
       "    </tr>\n",
       "    <tr>\n",
       "      <th>2</th>\n",
       "      <td>1325318040</td>\n",
       "      <td>NaN</td>\n",
       "      <td>NaN</td>\n",
       "      <td>NaN</td>\n",
       "      <td>NaN</td>\n",
       "      <td>NaN</td>\n",
       "      <td>NaN</td>\n",
       "      <td>NaN</td>\n",
       "    </tr>\n",
       "    <tr>\n",
       "      <th>3</th>\n",
       "      <td>1325318100</td>\n",
       "      <td>NaN</td>\n",
       "      <td>NaN</td>\n",
       "      <td>NaN</td>\n",
       "      <td>NaN</td>\n",
       "      <td>NaN</td>\n",
       "      <td>NaN</td>\n",
       "      <td>NaN</td>\n",
       "    </tr>\n",
       "    <tr>\n",
       "      <th>4</th>\n",
       "      <td>1325318160</td>\n",
       "      <td>NaN</td>\n",
       "      <td>NaN</td>\n",
       "      <td>NaN</td>\n",
       "      <td>NaN</td>\n",
       "      <td>NaN</td>\n",
       "      <td>NaN</td>\n",
       "      <td>NaN</td>\n",
       "    </tr>\n",
       "  </tbody>\n",
       "</table>\n",
       "</div>"
      ],
      "text/plain": [
       "    Timestamp  Open  High   Low  Close  Volume_(BTC)  Volume_(Currency)  \\\n",
       "0  1325317920  4.39  4.39  4.39   4.39      0.455581                2.0   \n",
       "1  1325317980   NaN   NaN   NaN    NaN           NaN                NaN   \n",
       "2  1325318040   NaN   NaN   NaN    NaN           NaN                NaN   \n",
       "3  1325318100   NaN   NaN   NaN    NaN           NaN                NaN   \n",
       "4  1325318160   NaN   NaN   NaN    NaN           NaN                NaN   \n",
       "\n",
       "   Weighted_Price  \n",
       "0            4.39  \n",
       "1             NaN  \n",
       "2             NaN  \n",
       "3             NaN  \n",
       "4             NaN  "
      ]
     },
     "execution_count": 3,
     "metadata": {},
     "output_type": "execute_result"
    }
   ],
   "source": [
    "df = pd.read_csv(\"/kaggle/input/bitcoin-historical-data/bitstampUSD_1-min_data_2012-01-01_to_2021-03-31.csv\")\n",
    "df.head()"
   ]
  },
  {
   "cell_type": "code",
   "execution_count": 4,
   "id": "d0111a96",
   "metadata": {
    "execution": {
     "iopub.execute_input": "2023-02-28T20:29:32.886240Z",
     "iopub.status.busy": "2023-02-28T20:29:32.885264Z",
     "iopub.status.idle": "2023-02-28T20:29:32.974610Z",
     "shell.execute_reply": "2023-02-28T20:29:32.973492Z"
    },
    "papermill": {
     "duration": 0.103365,
     "end_time": "2023-02-28T20:29:32.977187",
     "exception": false,
     "start_time": "2023-02-28T20:29:32.873822",
     "status": "completed"
    },
    "tags": []
   },
   "outputs": [
    {
     "data": {
      "text/plain": [
       "(4857377, 5)"
      ]
     },
     "execution_count": 4,
     "metadata": {},
     "output_type": "execute_result"
    }
   ],
   "source": [
    "df.rename(columns = {'Volume_(Currency)':'Volume_USD'}, inplace = True)\n",
    "df = df[df.columns.intersection(features + [target] + [\"Timestamp\"])]\n",
    "df.shape"
   ]
  },
  {
   "cell_type": "code",
   "execution_count": 5,
   "id": "59a725c2",
   "metadata": {
    "execution": {
     "iopub.execute_input": "2023-02-28T20:29:33.001463Z",
     "iopub.status.busy": "2023-02-28T20:29:32.999017Z",
     "iopub.status.idle": "2023-02-28T20:29:33.023006Z",
     "shell.execute_reply": "2023-02-28T20:29:33.021271Z"
    },
    "papermill": {
     "duration": 0.038631,
     "end_time": "2023-02-28T20:29:33.026050",
     "exception": false,
     "start_time": "2023-02-28T20:29:32.987419",
     "status": "completed"
    },
    "tags": []
   },
   "outputs": [
    {
     "name": "stdout",
     "output_type": "stream",
     "text": [
      "<class 'pandas.core.frame.DataFrame'>\n",
      "RangeIndex: 4857377 entries, 0 to 4857376\n",
      "Data columns (total 5 columns):\n",
      " #   Column      Dtype  \n",
      "---  ------      -----  \n",
      " 0   Timestamp   int64  \n",
      " 1   Open        float64\n",
      " 2   High        float64\n",
      " 3   Low         float64\n",
      " 4   Volume_USD  float64\n",
      "dtypes: float64(4), int64(1)\n",
      "memory usage: 185.3 MB\n"
     ]
    }
   ],
   "source": [
    "df.info()"
   ]
  },
  {
   "cell_type": "markdown",
   "id": "f85f6e7d",
   "metadata": {
    "papermill": {
     "duration": 0.010308,
     "end_time": "2023-02-28T20:29:33.047284",
     "exception": false,
     "start_time": "2023-02-28T20:29:33.036976",
     "status": "completed"
    },
    "tags": []
   },
   "source": [
    "# Data Cleaning\n",
    "- Handle missing values\n",
    "- Downcast value types to save space\n",
    "- Ensure time series has equidistant times"
   ]
  },
  {
   "cell_type": "code",
   "execution_count": 6,
   "id": "4f24b65e",
   "metadata": {
    "execution": {
     "iopub.execute_input": "2023-02-28T20:29:33.070341Z",
     "iopub.status.busy": "2023-02-28T20:29:33.069902Z",
     "iopub.status.idle": "2023-02-28T20:29:33.127851Z",
     "shell.execute_reply": "2023-02-28T20:29:33.126797Z"
    },
    "papermill": {
     "duration": 0.072904,
     "end_time": "2023-02-28T20:29:33.130472",
     "exception": false,
     "start_time": "2023-02-28T20:29:33.057568",
     "status": "completed"
    },
    "tags": []
   },
   "outputs": [
    {
     "data": {
      "text/plain": [
       "Timestamp           0\n",
       "Open          1243608\n",
       "High          1243608\n",
       "Low           1243608\n",
       "Volume_USD    1243608\n",
       "dtype: int64"
      ]
     },
     "execution_count": 6,
     "metadata": {},
     "output_type": "execute_result"
    }
   ],
   "source": [
    "df.isna().sum()"
   ]
  },
  {
   "cell_type": "markdown",
   "id": "e874763f",
   "metadata": {
    "papermill": {
     "duration": 0.010489,
     "end_time": "2023-02-28T20:29:33.151677",
     "exception": false,
     "start_time": "2023-02-28T20:29:33.141188",
     "status": "completed"
    },
    "tags": []
   },
   "source": [
    "This dataset only inputs values when their unique, the NaNs are to be forward-filled"
   ]
  },
  {
   "cell_type": "code",
   "execution_count": 7,
   "id": "bb4d1149",
   "metadata": {
    "execution": {
     "iopub.execute_input": "2023-02-28T20:29:33.177031Z",
     "iopub.status.busy": "2023-02-28T20:29:33.175607Z",
     "iopub.status.idle": "2023-02-28T20:29:33.300506Z",
     "shell.execute_reply": "2023-02-28T20:29:33.299559Z"
    },
    "papermill": {
     "duration": 0.140179,
     "end_time": "2023-02-28T20:29:33.303127",
     "exception": false,
     "start_time": "2023-02-28T20:29:33.162948",
     "status": "completed"
    },
    "tags": []
   },
   "outputs": [
    {
     "data": {
      "text/plain": [
       "Timestamp     0\n",
       "Open          0\n",
       "High          0\n",
       "Low           0\n",
       "Volume_USD    0\n",
       "dtype: int64"
      ]
     },
     "execution_count": 7,
     "metadata": {},
     "output_type": "execute_result"
    }
   ],
   "source": [
    "df.fillna(method=\"ffill\", inplace=True)\n",
    "df.isna().sum()"
   ]
  },
  {
   "cell_type": "markdown",
   "id": "445b3750",
   "metadata": {
    "papermill": {
     "duration": 0.0102,
     "end_time": "2023-02-28T20:29:33.323918",
     "exception": false,
     "start_time": "2023-02-28T20:29:33.313718",
     "status": "completed"
    },
    "tags": []
   },
   "source": [
    "# Data Preprocessing\n",
    "- Downcast column types (save memory)\n",
    "- Evaluate our timeseries' interval distance"
   ]
  },
  {
   "cell_type": "code",
   "execution_count": 8,
   "id": "6d381917",
   "metadata": {
    "execution": {
     "iopub.execute_input": "2023-02-28T20:29:33.346756Z",
     "iopub.status.busy": "2023-02-28T20:29:33.346310Z",
     "iopub.status.idle": "2023-02-28T20:29:34.035197Z",
     "shell.execute_reply": "2023-02-28T20:29:34.033227Z"
    },
    "papermill": {
     "duration": 0.704643,
     "end_time": "2023-02-28T20:29:34.038888",
     "exception": false,
     "start_time": "2023-02-28T20:29:33.334245",
     "status": "completed"
    },
    "tags": []
   },
   "outputs": [
    {
     "name": "stdout",
     "output_type": "stream",
     "text": [
      "<class 'pandas.core.frame.DataFrame'>\n",
      "RangeIndex: 4857377 entries, 0 to 4857376\n",
      "Data columns (total 5 columns):\n",
      " #   Column      Dtype  \n",
      "---  ------      -----  \n",
      " 0   Timestamp   int32  \n",
      " 1   Open        float32\n",
      " 2   High        float32\n",
      " 3   Low         float32\n",
      " 4   Volume_USD  float32\n",
      "dtypes: float32(4), int32(1)\n",
      "memory usage: 92.6 MB\n"
     ]
    }
   ],
   "source": [
    "fcols = df.select_dtypes('float').columns\n",
    "icols = df.select_dtypes('integer').columns\n",
    "\n",
    "df[fcols] = df[fcols].apply(pd.to_numeric, downcast='float')\n",
    "df[icols] = df[icols].apply(pd.to_numeric, downcast='integer')\n",
    "\n",
    "df.info()"
   ]
  },
  {
   "cell_type": "markdown",
   "id": "ed3701b7",
   "metadata": {
    "papermill": {
     "duration": 0.010432,
     "end_time": "2023-02-28T20:29:34.060313",
     "exception": false,
     "start_time": "2023-02-28T20:29:34.049881",
     "status": "completed"
    },
    "tags": []
   },
   "source": [
    "Let's add a readable datetime format"
   ]
  },
  {
   "cell_type": "code",
   "execution_count": 9,
   "id": "74d9911c",
   "metadata": {
    "execution": {
     "iopub.execute_input": "2023-02-28T20:29:34.083495Z",
     "iopub.status.busy": "2023-02-28T20:29:34.083061Z",
     "iopub.status.idle": "2023-02-28T20:29:34.340813Z",
     "shell.execute_reply": "2023-02-28T20:29:34.339542Z"
    },
    "papermill": {
     "duration": 0.272917,
     "end_time": "2023-02-28T20:29:34.343832",
     "exception": false,
     "start_time": "2023-02-28T20:29:34.070915",
     "status": "completed"
    },
    "tags": []
   },
   "outputs": [
    {
     "data": {
      "text/html": [
       "<div>\n",
       "<style scoped>\n",
       "    .dataframe tbody tr th:only-of-type {\n",
       "        vertical-align: middle;\n",
       "    }\n",
       "\n",
       "    .dataframe tbody tr th {\n",
       "        vertical-align: top;\n",
       "    }\n",
       "\n",
       "    .dataframe thead th {\n",
       "        text-align: right;\n",
       "    }\n",
       "</style>\n",
       "<table border=\"1\" class=\"dataframe\">\n",
       "  <thead>\n",
       "    <tr style=\"text-align: right;\">\n",
       "      <th></th>\n",
       "      <th>Timestamp</th>\n",
       "      <th>Open</th>\n",
       "      <th>High</th>\n",
       "      <th>Low</th>\n",
       "      <th>Volume_USD</th>\n",
       "      <th>Date</th>\n",
       "      <th>Gap (&gt; 1 min)</th>\n",
       "    </tr>\n",
       "  </thead>\n",
       "  <tbody>\n",
       "    <tr>\n",
       "      <th>1585521</th>\n",
       "      <td>1420837500</td>\n",
       "      <td>272.450012</td>\n",
       "      <td>305.0</td>\n",
       "      <td>272.450012</td>\n",
       "      <td>50502.066406</td>\n",
       "      <td>2015-01-09 21:05:00</td>\n",
       "      <td>True</td>\n",
       "    </tr>\n",
       "  </tbody>\n",
       "</table>\n",
       "</div>"
      ],
      "text/plain": [
       "          Timestamp        Open   High         Low    Volume_USD  \\\n",
       "1585521  1420837500  272.450012  305.0  272.450012  50502.066406   \n",
       "\n",
       "                       Date  Gap (> 1 min)  \n",
       "1585521 2015-01-09 21:05:00           True  "
      ]
     },
     "execution_count": 9,
     "metadata": {},
     "output_type": "execute_result"
    }
   ],
   "source": [
    "df['Date'] = pd.to_datetime(df['Timestamp'], unit='s')\n",
    "df['Gap (> 1 min)'] = (df.Date - df.Date.shift(1)) > pd.to_timedelta('1 min')\n",
    "\n",
    "big_gap = df[df['Gap (> 1 min)']]\n",
    "big_gap.head()"
   ]
  },
  {
   "cell_type": "markdown",
   "id": "0f50f960",
   "metadata": {
    "papermill": {
     "duration": 0.010361,
     "end_time": "2023-02-28T20:29:34.365394",
     "exception": false,
     "start_time": "2023-02-28T20:29:34.355033",
     "status": "completed"
    },
    "tags": []
   },
   "source": [
    "Ensuring our time-series has equidistant entries"
   ]
  },
  {
   "cell_type": "code",
   "execution_count": 10,
   "id": "36843e98",
   "metadata": {
    "execution": {
     "iopub.execute_input": "2023-02-28T20:29:34.390688Z",
     "iopub.status.busy": "2023-02-28T20:29:34.389244Z",
     "iopub.status.idle": "2023-02-28T20:29:34.396940Z",
     "shell.execute_reply": "2023-02-28T20:29:34.395640Z"
    },
    "papermill": {
     "duration": 0.023255,
     "end_time": "2023-02-28T20:29:34.399394",
     "exception": false,
     "start_time": "2023-02-28T20:29:34.376139",
     "status": "completed"
    },
    "tags": []
   },
   "outputs": [
    {
     "data": {
      "text/plain": [
       "0.3264150589917151"
      ]
     },
     "execution_count": 10,
     "metadata": {},
     "output_type": "execute_result"
    }
   ],
   "source": [
    "# Percentage below big gap\n",
    "1585521/len(df)"
   ]
  },
  {
   "cell_type": "markdown",
   "id": "d7a441a9",
   "metadata": {
    "papermill": {
     "duration": 0.010535,
     "end_time": "2023-02-28T20:29:34.421009",
     "exception": false,
     "start_time": "2023-02-28T20:29:34.410474",
     "status": "completed"
    },
    "tags": []
   },
   "source": [
    "Lets take the data after the gap (larger portion)"
   ]
  },
  {
   "cell_type": "code",
   "execution_count": 11,
   "id": "17a3d6fa",
   "metadata": {
    "execution": {
     "iopub.execute_input": "2023-02-28T20:29:34.444741Z",
     "iopub.status.busy": "2023-02-28T20:29:34.444288Z",
     "iopub.status.idle": "2023-02-28T20:29:34.519303Z",
     "shell.execute_reply": "2023-02-28T20:29:34.518152Z"
    },
    "papermill": {
     "duration": 0.090184,
     "end_time": "2023-02-28T20:29:34.522019",
     "exception": false,
     "start_time": "2023-02-28T20:29:34.431835",
     "status": "completed"
    },
    "tags": []
   },
   "outputs": [
    {
     "data": {
      "text/plain": [
       "count     3271855\n",
       "unique          1\n",
       "top         False\n",
       "freq      3271855\n",
       "Name: Gap (> 1 min), dtype: object"
      ]
     },
     "execution_count": 11,
     "metadata": {},
     "output_type": "execute_result"
    }
   ],
   "source": [
    "df = df[1585522:].copy()\n",
    "df['Gap (> 1 min)'].describe()"
   ]
  },
  {
   "cell_type": "markdown",
   "id": "7dbcc1b9",
   "metadata": {
    "papermill": {
     "duration": 0.011052,
     "end_time": "2023-02-28T20:29:34.544214",
     "exception": false,
     "start_time": "2023-02-28T20:29:34.533162",
     "status": "completed"
    },
    "tags": []
   },
   "source": [
    "# Representation"
   ]
  },
  {
   "cell_type": "markdown",
   "id": "62372228",
   "metadata": {
    "papermill": {
     "duration": 0.01148,
     "end_time": "2023-02-28T20:29:34.566755",
     "exception": false,
     "start_time": "2023-02-28T20:29:34.555275",
     "status": "completed"
    },
    "tags": []
   },
   "source": [
    "Lets see how our features relate to each other and how they are distributed (histograms)"
   ]
  },
  {
   "cell_type": "code",
   "execution_count": 12,
   "id": "55fd3895",
   "metadata": {
    "_kg_hide-input": true,
    "execution": {
     "iopub.execute_input": "2023-02-28T20:29:34.591066Z",
     "iopub.status.busy": "2023-02-28T20:29:34.590646Z",
     "iopub.status.idle": "2023-02-28T20:29:39.503987Z",
     "shell.execute_reply": "2023-02-28T20:29:39.503018Z"
    },
    "papermill": {
     "duration": 4.928587,
     "end_time": "2023-02-28T20:29:39.506520",
     "exception": false,
     "start_time": "2023-02-28T20:29:34.577933",
     "status": "completed"
    },
    "tags": []
   },
   "outputs": [
    {
     "data": {
      "text/plain": [
       "<seaborn.axisgrid.PairGrid at 0x7fd74c15ad50>"
      ]
     },
     "execution_count": 12,
     "metadata": {},
     "output_type": "execute_result"
    },
    {
     "data": {
      "image/png": "[encoded data removed]",
      "text/plain": [
       "<Figure size 750x750 with 12 Axes>"
      ]
     },
     "metadata": {},
     "output_type": "display_data"
    }
   ],
   "source": [
    "sns.pairplot(df[features].sample(5000)) # Our dataset is too big to pairplot the whole thing"
   ]
  },
  {
   "cell_type": "markdown",
   "id": "664acb6b",
   "metadata": {
    "papermill": {
     "duration": 0.012407,
     "end_time": "2023-02-28T20:29:39.531660",
     "exception": false,
     "start_time": "2023-02-28T20:29:39.519253",
     "status": "completed"
    },
    "tags": []
   },
   "source": [
    "Let's check the correlation between feautures"
   ]
  },
  {
   "cell_type": "code",
   "execution_count": 13,
   "id": "8e10566b",
   "metadata": {
    "execution": {
     "iopub.execute_input": "2023-02-28T20:29:39.560079Z",
     "iopub.status.busy": "2023-02-28T20:29:39.559463Z",
     "iopub.status.idle": "2023-02-28T20:29:40.169278Z",
     "shell.execute_reply": "2023-02-28T20:29:40.168014Z"
    },
    "papermill": {
     "duration": 0.626934,
     "end_time": "2023-02-28T20:29:40.172037",
     "exception": false,
     "start_time": "2023-02-28T20:29:39.545103",
     "status": "completed"
    },
    "tags": []
   },
   "outputs": [
    {
     "data": {
      "text/plain": [
       "Text(0.5, 1.0, 'Feature Correlation Plot')"
      ]
     },
     "execution_count": 13,
     "metadata": {},
     "output_type": "execute_result"
    },
    {
     "data": {
      "image/png": "[encoded data removed]",
      "text/plain": [
       "<Figure size 640x480 with 2 Axes>"
      ]
     },
     "metadata": {},
     "output_type": "display_data"
    }
   ],
   "source": [
    "sns.heatmap(df[features + [target]].corr(), annot=True)\n",
    "plt.title(\"Feature Correlation Plot\")"
   ]
  },
  {
   "cell_type": "markdown",
   "id": "246d4445",
   "metadata": {
    "papermill": {
     "duration": 0.013226,
     "end_time": "2023-02-28T20:29:40.199111",
     "exception": false,
     "start_time": "2023-02-28T20:29:40.185885",
     "status": "completed"
    },
    "tags": []
   },
   "source": [
    "# Feature Selection\n",
    "Lets check our feature variance to decide on features to use, We're also going to need to normalise our data temporarily so that the ranges do not skew our analysis.\n",
    "Features with high variances elicit better results with models."
   ]
  },
  {
   "cell_type": "code",
   "execution_count": 14,
   "id": "f76fa035",
   "metadata": {
    "execution": {
     "iopub.execute_input": "2023-02-28T20:29:40.227775Z",
     "iopub.status.busy": "2023-02-28T20:29:40.227351Z",
     "iopub.status.idle": "2023-02-28T20:29:40.254079Z",
     "shell.execute_reply": "2023-02-28T20:29:40.252889Z"
    },
    "papermill": {
     "duration": 0.044456,
     "end_time": "2023-02-28T20:29:40.256808",
     "exception": false,
     "start_time": "2023-02-28T20:29:40.212352",
     "status": "completed"
    },
    "tags": []
   },
   "outputs": [],
   "source": [
    "df = df[features + [target]] # ignore redundant columns for regression (Timestamp, Date, Gap)"
   ]
  },
  {
   "cell_type": "code",
   "execution_count": 15,
   "id": "5a1282a4",
   "metadata": {
    "execution": {
     "iopub.execute_input": "2023-02-28T20:29:40.286426Z",
     "iopub.status.busy": "2023-02-28T20:29:40.285377Z",
     "iopub.status.idle": "2023-02-28T20:29:40.472910Z",
     "shell.execute_reply": "2023-02-28T20:29:40.471695Z"
    },
    "papermill": {
     "duration": 0.204696,
     "end_time": "2023-02-28T20:29:40.475372",
     "exception": false,
     "start_time": "2023-02-28T20:29:40.270676",
     "status": "completed"
    },
    "tags": []
   },
   "outputs": [
    {
     "data": {
      "text/plain": [
       "0    0.042057\n",
       "1    0.042046\n",
       "2    0.142021\n",
       "3    0.042069\n",
       "dtype: float32"
      ]
     },
     "execution_count": 15,
     "metadata": {},
     "output_type": "execute_result"
    }
   ],
   "source": [
    "norm_df = pd.DataFrame(normalize(df))\n",
    "norm_df.var() # variances "
   ]
  },
  {
   "cell_type": "markdown",
   "id": "58bbfa87",
   "metadata": {
    "papermill": {
     "duration": 0.013077,
     "end_time": "2023-02-28T20:29:40.501961",
     "exception": false,
     "start_time": "2023-02-28T20:29:40.488884",
     "status": "completed"
    },
    "tags": []
   },
   "source": [
    "Variances are suitable so we will stick to the features"
   ]
  },
  {
   "cell_type": "markdown",
   "id": "c00a9ac5",
   "metadata": {
    "papermill": {
     "duration": 0.013039,
     "end_time": "2023-02-28T20:29:40.528648",
     "exception": false,
     "start_time": "2023-02-28T20:29:40.515609",
     "status": "completed"
    },
    "tags": []
   },
   "source": [
    "# Train Test Split"
   ]
  },
  {
   "cell_type": "code",
   "execution_count": 16,
   "id": "040e95e6",
   "metadata": {
    "execution": {
     "iopub.execute_input": "2023-02-28T20:29:40.557775Z",
     "iopub.status.busy": "2023-02-28T20:29:40.556700Z",
     "iopub.status.idle": "2023-02-28T20:29:40.950793Z",
     "shell.execute_reply": "2023-02-28T20:29:40.949312Z"
    },
    "papermill": {
     "duration": 0.411627,
     "end_time": "2023-02-28T20:29:40.953577",
     "exception": false,
     "start_time": "2023-02-28T20:29:40.541950",
     "status": "completed"
    },
    "tags": []
   },
   "outputs": [],
   "source": [
    "x_train, x_test, y_train, y_test = train_test_split(df[features], df[target], test_size = 0.3, random_state=0)"
   ]
  },
  {
   "cell_type": "markdown",
   "id": "64400c0d",
   "metadata": {
    "papermill": {
     "duration": 0.013022,
     "end_time": "2023-02-28T20:29:40.980200",
     "exception": false,
     "start_time": "2023-02-28T20:29:40.967178",
     "status": "completed"
    },
    "tags": []
   },
   "source": [
    "# Model\n",
    "Fit model to our training data"
   ]
  },
  {
   "cell_type": "code",
   "execution_count": 17,
   "id": "ed839b99",
   "metadata": {
    "execution": {
     "iopub.execute_input": "2023-02-28T20:29:41.009303Z",
     "iopub.status.busy": "2023-02-28T20:29:41.008517Z",
     "iopub.status.idle": "2023-02-28T20:29:41.179338Z",
     "shell.execute_reply": "2023-02-28T20:29:41.177322Z"
    },
    "papermill": {
     "duration": 0.190509,
     "end_time": "2023-02-28T20:29:41.184187",
     "exception": false,
     "start_time": "2023-02-28T20:29:40.993678",
     "status": "completed"
    },
    "tags": []
   },
   "outputs": [
    {
     "data": {
      "text/plain": [
       "LinearRegression()"
      ]
     },
     "execution_count": 17,
     "metadata": {},
     "output_type": "execute_result"
    }
   ],
   "source": [
    "model = LinearRegression()\n",
    "model.fit(x_train, y_train)"
   ]
  },
  {
   "cell_type": "markdown",
   "id": "575764e0",
   "metadata": {
    "papermill": {
     "duration": 0.034359,
     "end_time": "2023-02-28T20:29:41.254264",
     "exception": false,
     "start_time": "2023-02-28T20:29:41.219905",
     "status": "completed"
    },
    "tags": []
   },
   "source": [
    "# Prediction\n",
    "Let's predict a target value based on features with a random sample!"
   ]
  },
  {
   "cell_type": "code",
   "execution_count": 18,
   "id": "16326837",
   "metadata": {
    "execution": {
     "iopub.execute_input": "2023-02-28T20:29:41.284398Z",
     "iopub.status.busy": "2023-02-28T20:29:41.283971Z",
     "iopub.status.idle": "2023-02-28T20:29:41.437237Z",
     "shell.execute_reply": "2023-02-28T20:29:41.435948Z"
    },
    "papermill": {
     "duration": 0.171049,
     "end_time": "2023-02-28T20:29:41.439876",
     "exception": false,
     "start_time": "2023-02-28T20:29:41.268827",
     "status": "completed"
    },
    "tags": []
   },
   "outputs": [
    {
     "data": {
      "text/plain": [
       "1970989    239.229996\n",
       "Name: High, dtype: float32"
      ]
     },
     "execution_count": 18,
     "metadata": {},
     "output_type": "execute_result"
    }
   ],
   "source": [
    "sample_row = df.sample(1) # Pick a sample row randomly from the dataframe\n",
    "input_data = sample_row[features] # Model input of features\n",
    "sample_row[target] # Our target ground truth"
   ]
  },
  {
   "cell_type": "code",
   "execution_count": 19,
   "id": "322f36c7",
   "metadata": {
    "execution": {
     "iopub.execute_input": "2023-02-28T20:29:41.470066Z",
     "iopub.status.busy": "2023-02-28T20:29:41.469310Z",
     "iopub.status.idle": "2023-02-28T20:29:41.479387Z",
     "shell.execute_reply": "2023-02-28T20:29:41.478213Z"
    },
    "papermill": {
     "duration": 0.027852,
     "end_time": "2023-02-28T20:29:41.481900",
     "exception": false,
     "start_time": "2023-02-28T20:29:41.454048",
     "status": "completed"
    },
    "tags": []
   },
   "outputs": [
    {
     "data": {
      "text/plain": [
       "238.25453"
      ]
     },
     "execution_count": 19,
     "metadata": {},
     "output_type": "execute_result"
    }
   ],
   "source": [
    "prediction = model.predict(input_data)\n",
    "prediction[0] # target based in regression model"
   ]
  },
  {
   "cell_type": "markdown",
   "id": "0d9cc328",
   "metadata": {
    "papermill": {
     "duration": 0.013421,
     "end_time": "2023-02-28T20:29:41.509777",
     "exception": false,
     "start_time": "2023-02-28T20:29:41.496356",
     "status": "completed"
    },
    "tags": []
   },
   "source": [
    "# Performance\n",
    "- Cross Validation\n",
    "- Residual Graph\n",
    "- $R^2$ measure"
   ]
  },
  {
   "cell_type": "markdown",
   "id": "bd816d45",
   "metadata": {
    "papermill": {
     "duration": 0.013276,
     "end_time": "2023-02-28T20:29:41.536857",
     "exception": false,
     "start_time": "2023-02-28T20:29:41.523581",
     "status": "completed"
    },
    "tags": []
   },
   "source": [
    "### Cross validation\n",
    "This measure can tell us how well the model may perform on unseen data."
   ]
  },
  {
   "cell_type": "code",
   "execution_count": 20,
   "id": "9efdc8bf",
   "metadata": {
    "execution": {
     "iopub.execute_input": "2023-02-28T20:29:41.566233Z",
     "iopub.status.busy": "2023-02-28T20:29:41.565798Z",
     "iopub.status.idle": "2023-02-28T20:29:44.108824Z",
     "shell.execute_reply": "2023-02-28T20:29:44.107070Z"
    },
    "papermill": {
     "duration": 2.563307,
     "end_time": "2023-02-28T20:29:44.113918",
     "exception": false,
     "start_time": "2023-02-28T20:29:41.550611",
     "status": "completed"
    },
    "tags": []
   },
   "outputs": [
    {
     "name": "stdout",
     "output_type": "stream",
     "text": [
      "Cross-validation scores: [0.9999986  0.99999872 0.99999868 0.99999854 0.99999855 0.9999985\n",
      " 0.99999863 0.99999855 0.99999863 0.99999857]\n",
      "Mean score: 0.999998598304904\n",
      "Standard deviation: 6.462399950503963e-08\n"
     ]
    }
   ],
   "source": [
    "scores = cross_val_score(model, x_train, y_train, cv=10)\n",
    "\n",
    "print(\"Cross-validation scores:\", scores)\n",
    "print(\"Mean score:\", scores.mean())\n",
    "print(\"Standard deviation:\", scores.std())"
   ]
  },
  {
   "cell_type": "markdown",
   "id": "4d5f9706",
   "metadata": {
    "papermill": {
     "duration": 0.035009,
     "end_time": "2023-02-28T20:29:44.185111",
     "exception": false,
     "start_time": "2023-02-28T20:29:44.150102",
     "status": "completed"
    },
    "tags": []
   },
   "source": [
    "### Residual Graph \n",
    "This plot can show us if this model is well suited to this data.\n",
    "\n",
    "**What is a residual?**\n",
    "- Difference between predicted value and actual value\n",
    "- Residual > 0: data point is above regression line\n",
    "- Residual < 0: data point is below regression line\n",
    "\n",
    "**Characteristics of a good model:**\n",
    "- Randomness: residuals that are randomly scattered around the red line.\n",
    "- Homoscedasticity:residuals that are evenly spread out around the red line.\n",
    "- Normality: residuals that follow a normal distribution (the assumption that the data has normality)"
   ]
  },
  {
   "cell_type": "code",
   "execution_count": 21,
   "id": "b75bcd7e",
   "metadata": {
    "execution": {
     "iopub.execute_input": "2023-02-28T20:29:44.233537Z",
     "iopub.status.busy": "2023-02-28T20:29:44.233081Z",
     "iopub.status.idle": "2023-02-28T20:29:46.654171Z",
     "shell.execute_reply": "2023-02-28T20:29:46.652837Z"
    },
    "papermill": {
     "duration": 2.439175,
     "end_time": "2023-02-28T20:29:46.657022",
     "exception": false,
     "start_time": "2023-02-28T20:29:44.217847",
     "status": "completed"
    },
    "tags": []
   },
   "outputs": [
    {
     "data": {
      "image/png": "[encoded data removed]",
      "text/plain": [
       "<Figure size 640x480 with 1 Axes>"
      ]
     },
     "metadata": {},
     "output_type": "display_data"
    }
   ],
   "source": [
    "y_prediction = model.predict(x_test)\n",
    "residuals = y_test - y_prediction\n",
    "\n",
    "plt.scatter(y_prediction, residuals, color='blue')\n",
    "plt.hlines(y=0, xmin=0, xmax=max(y_prediction), color='red')\n",
    "plt.title('Residual plot')\n",
    "plt.xlabel('Predicted values')\n",
    "plt.ylabel('Residuals')\n",
    "plt.show()"
   ]
  },
  {
   "cell_type": "markdown",
   "id": "3561fc7d",
   "metadata": {
    "papermill": {
     "duration": 0.014292,
     "end_time": "2023-02-28T20:29:46.685984",
     "exception": false,
     "start_time": "2023-02-28T20:29:46.671692",
     "status": "completed"
    },
    "tags": []
   },
   "source": [
    "### **How does our model fare?**\n",
    "Our model scores highly in the cross validation.\n",
    "\n",
    "In terms of Residuals:\n",
    "- **Randomness:** Our incorrect values do not all go in the same direction or by the same amount and so the randomness is good and shows little bias.\n",
    "- **Homoscedasticity:** The residuals cloud the horizontal line in an even manner showing little bias across features\n",
    "- **Normality:** Let's evaluate this with a QQ plot"
   ]
  },
  {
   "cell_type": "code",
   "execution_count": 22,
   "id": "18b608ec",
   "metadata": {
    "execution": {
     "iopub.execute_input": "2023-02-28T20:29:46.716683Z",
     "iopub.status.busy": "2023-02-28T20:29:46.716219Z",
     "iopub.status.idle": "2023-02-28T20:29:49.290662Z",
     "shell.execute_reply": "2023-02-28T20:29:49.289272Z"
    },
    "papermill": {
     "duration": 2.592947,
     "end_time": "2023-02-28T20:29:49.293302",
     "exception": false,
     "start_time": "2023-02-28T20:29:46.700355",
     "status": "completed"
    },
    "tags": []
   },
   "outputs": [
    {
     "data": {
      "image/png": "[encoded data removed]",
      "text/plain": [
       "<Figure size 800x400 with 1 Axes>"
      ]
     },
     "metadata": {},
     "output_type": "display_data"
    }
   ],
   "source": [
    "fig, ax = plt.subplots(figsize=(8, 4))\n",
    "sm.qqplot(residuals, line='s', ax=ax)\n",
    "ax.set_title('Residual Q-Q plot')\n",
    "plt.show()"
   ]
  },
  {
   "cell_type": "markdown",
   "id": "9d2dd524",
   "metadata": {
    "papermill": {
     "duration": 0.014298,
     "end_time": "2023-02-28T20:29:49.322977",
     "exception": false,
     "start_time": "2023-02-28T20:29:49.308679",
     "status": "completed"
    },
    "tags": []
   },
   "source": [
    "This plot compares the residual distribution to a normal distribution.\n",
    "\n",
    "It shows our residuals have a heavy tail.\n",
    "This tells us that there are potential extremes that the model would not expect.\n",
    "It also may imply that there are external actors or features that affect the dataset that our model does not account for."
   ]
  },
  {
   "cell_type": "markdown",
   "id": "5002c1c1",
   "metadata": {
    "papermill": {
     "duration": 0.01426,
     "end_time": "2023-02-28T20:29:49.351758",
     "exception": false,
     "start_time": "2023-02-28T20:29:49.337498",
     "status": "completed"
    },
    "tags": []
   },
   "source": [
    "### $R^2$\n",
    "\n",
    "he proportion of variance in the target that is explained by the features in the regression model."
   ]
  },
  {
   "cell_type": "code",
   "execution_count": 23,
   "id": "ea9d264f",
   "metadata": {
    "execution": {
     "iopub.execute_input": "2023-02-28T20:29:49.383108Z",
     "iopub.status.busy": "2023-02-28T20:29:49.382619Z",
     "iopub.status.idle": "2023-02-28T20:29:49.398193Z",
     "shell.execute_reply": "2023-02-28T20:29:49.396688Z"
    },
    "papermill": {
     "duration": 0.034506,
     "end_time": "2023-02-28T20:29:49.400958",
     "exception": false,
     "start_time": "2023-02-28T20:29:49.366452",
     "status": "completed"
    },
    "tags": []
   },
   "outputs": [
    {
     "data": {
      "text/plain": [
       "0.9999986386186023"
      ]
     },
     "execution_count": 23,
     "metadata": {},
     "output_type": "execute_result"
    }
   ],
   "source": [
    "r2_score(y_prediction, y_test)"
   ]
  },
  {
   "cell_type": "markdown",
   "id": "7fcc49c0",
   "metadata": {
    "papermill": {
     "duration": 0.014545,
     "end_time": "2023-02-28T20:29:49.430767",
     "exception": false,
     "start_time": "2023-02-28T20:29:49.416222",
     "status": "completed"
    },
    "tags": []
   },
   "source": [
    "# Application\n",
    "Let's pull in some real bitcoin data and see how close we are!"
   ]
  },
  {
   "cell_type": "code",
   "execution_count": 24,
   "id": "3bf5a423",
   "metadata": {
    "execution": {
     "iopub.execute_input": "2023-02-28T20:29:49.462173Z",
     "iopub.status.busy": "2023-02-28T20:29:49.461747Z",
     "iopub.status.idle": "2023-02-28T20:29:50.308459Z",
     "shell.execute_reply": "2023-02-28T20:29:50.306938Z"
    },
    "papermill": {
     "duration": 0.865674,
     "end_time": "2023-02-28T20:29:50.311199",
     "exception": false,
     "start_time": "2023-02-28T20:29:49.445525",
     "status": "completed"
    },
    "tags": []
   },
   "outputs": [],
   "source": [
    "response = requests.get(\"https://min-api.cryptocompare.com/data/v2/histoday?fsym=BTC&tsym=USD&limit=1\")  \n",
    "data = response.json()[\"Data\"][\"Data\"][0]"
   ]
  },
  {
   "cell_type": "code",
   "execution_count": 25,
   "id": "0899f06f",
   "metadata": {
    "execution": {
     "iopub.execute_input": "2023-02-28T20:29:50.343176Z",
     "iopub.status.busy": "2023-02-28T20:29:50.342736Z",
     "iopub.status.idle": "2023-02-28T20:29:50.352730Z",
     "shell.execute_reply": "2023-02-28T20:29:50.351317Z"
    },
    "papermill": {
     "duration": 0.030059,
     "end_time": "2023-02-28T20:29:50.356178",
     "exception": false,
     "start_time": "2023-02-28T20:29:50.326119",
     "status": "completed"
    },
    "tags": []
   },
   "outputs": [
    {
     "name": "stdout",
     "output_type": "stream",
     "text": [
      "Time: 2023-02-27 00:00:00\n",
      "Open: 23557.39\n",
      "Low: 23144.28\n",
      "USD Volume: 44498.06\n"
     ]
    }
   ],
   "source": [
    "time = str(pd.to_datetime(data[\"time\"], unit='s'))\n",
    "open_price = data[\"open\"]\n",
    "low_price = data[\"low\"]\n",
    "vol_usd = data[\"volumefrom\"]\n",
    "\n",
    "latest = pd.DataFrame([[open_price, low_price, vol_usd]], columns=features)\n",
    "\n",
    "print(\"Time: \" + time)\n",
    "print(\"Open: \" + str(open_price))\n",
    "print(\"Low: \" + str(low_price))\n",
    "print(\"USD Volume: \" + str(vol_usd))"
   ]
  },
  {
   "cell_type": "code",
   "execution_count": 26,
   "id": "1c5c1d9a",
   "metadata": {
    "execution": {
     "iopub.execute_input": "2023-02-28T20:29:50.389875Z",
     "iopub.status.busy": "2023-02-28T20:29:50.388681Z",
     "iopub.status.idle": "2023-02-28T20:29:50.399235Z",
     "shell.execute_reply": "2023-02-28T20:29:50.397632Z"
    },
    "papermill": {
     "duration": 0.030013,
     "end_time": "2023-02-28T20:29:50.401800",
     "exception": false,
     "start_time": "2023-02-28T20:29:50.371787",
     "status": "completed"
    },
    "tags": []
   },
   "outputs": [
    {
     "name": "stdout",
     "output_type": "stream",
     "text": [
      "Prediction: $23456.61\n",
      "Actual: $23876.65\n",
      "Error: $420.04\n"
     ]
    }
   ],
   "source": [
    "prediction = model.predict(latest)[0]\n",
    "actual_high = data[\"high\"]\n",
    "error_usd = round(abs(actual_high - prediction), 2)\n",
    "\n",
    "print(\"Prediction: $\" + str(round(prediction,2)))\n",
    "print(\"Actual: $\" + str(actual_high))\n",
    "print(\"Error: $\" + str(error_usd))"
   ]
  }
 ],
 "metadata": {
  "kernelspec": {
   "display_name": "Python 3",
   "language": "python",
   "name": "python3"
  },
  "language_info": {
   "codemirror_mode": {
    "name": "ipython",
    "version": 3
   },
   "file_extension": ".py",
   "mimetype": "text/x-python",
   "name": "python",
   "nbconvert_exporter": "python",
   "pygments_lexer": "ipython3",
   "version": "3.7.12"
  },
  "papermill": {
   "default_parameters": {},
   "duration": 41.102674,
   "end_time": "2023-02-28T20:29:51.340627",
   "environment_variables": {},
   "exception": null,
   "input_path": "__notebook__.ipynb",
   "output_path": "__notebook__.ipynb",
   "parameters": {},
   "start_time": "2023-02-28T20:29:10.237953",
   "version": "2.4.0"
  }
 },
 "nbformat": 4,
 "nbformat_minor": 5
}
